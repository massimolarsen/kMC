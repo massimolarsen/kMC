{
 "cells": [
  {
   "cell_type": "code",
   "execution_count": 1328,
   "id": "3909588b",
   "metadata": {},
   "outputs": [],
   "source": [
    "import numpy as np\n",
    "import matplotlib.pyplot as plt"
   ]
  },
  {
   "cell_type": "markdown",
   "id": "1dc4012a",
   "metadata": {},
   "source": [
    "##### Set up classes"
   ]
  },
  {
   "cell_type": "code",
   "execution_count": 1329,
   "id": "674ed342",
   "metadata": {},
   "outputs": [],
   "source": [
    "class particle:\n",
    "     def __init__(self, alive, mu, x, g, w):\n",
    "        self.alive = alive\n",
    "        self.mu = mu\n",
    "        self.x = x\n",
    "        self.g = g\n",
    "        self.w = w"
   ]
  },
  {
   "cell_type": "code",
   "execution_count": 1330,
   "id": "5d2f0b60",
   "metadata": {},
   "outputs": [],
   "source": [
    "class tally:\n",
    "    def __init__(self, flux, current):\n",
    "        self.flux = flux\n",
    "        self.current = current\n",
    "        self.flux_sdev = np.zeros_like(flux)\n",
    "        self.current_sdev = np.zeros_like(current)"
   ]
  },
  {
   "cell_type": "code",
   "execution_count": 1331,
   "id": "f1db96fe",
   "metadata": {},
   "outputs": [],
   "source": [
    "class material:\n",
    "    def __init__(self, nuSigmaF, SigmaS, SigmaT):\n",
    "        self.nuSigmaF = nuSigmaF\n",
    "        self.SigmaS = SigmaS\n",
    "        self.SigmaT = SigmaT"
   ]
  },
  {
   "cell_type": "code",
   "execution_count": 1332,
   "id": "a2d989b8",
   "metadata": {},
   "outputs": [],
   "source": [
    "class cell:\n",
    "    def __init__(self, left, right, material):\n",
    "        self.left = left\n",
    "        self.right = right\n",
    "        self.material = material"
   ]
  },
  {
   "cell_type": "code",
   "execution_count": 1333,
   "id": "476e4e54",
   "metadata": {},
   "outputs": [],
   "source": [
    "class mesh:\n",
    "    def __init__(self, Nx, L, bc):\n",
    "        self.Nx = Nx\n",
    "        self.L = L\n",
    "        self.dx = L/(Nx-1)\n",
    "        self.mesh_x = np.linspace(0, L, Nx)\n",
    "        self.mesh_flux = np.linspace(0, L, Nx-1)\n",
    "        self.bc = bc"
   ]
  },
  {
   "cell_type": "markdown",
   "id": "2faa40c3",
   "metadata": {},
   "source": [
    "##### Set up functions"
   ]
  },
  {
   "cell_type": "code",
   "execution_count": 1334,
   "id": "66983fe0",
   "metadata": {},
   "outputs": [],
   "source": [
    "def pushn_P(p):\n",
    "    PUSH = 1e-5 \n",
    "    if p.mu > 0:\n",
    "        p.x += PUSH\n",
    "    else:\n",
    "        p.x += -PUSH"
   ]
  },
  {
   "cell_type": "code",
   "execution_count": 1335,
   "id": "7eadd480",
   "metadata": {},
   "outputs": [],
   "source": [
    "def calculate_fission_source():\n",
    "    # get values\n",
    "    flux = tally1.flux\n",
    "    source = np.zeros(mesh1.Nx-1)\n",
    "    dx = mesh1.dx\n",
    "    index = 0\n",
    "    \n",
    "    # loop through all cells\n",
    "    for i in range(len(cells)):\n",
    "        # get cell and material data\n",
    "        left = cells[i].left\n",
    "        right = cells[i].right\n",
    "        material = cells[i].material\n",
    "        nuSigmaF = material.nuSigmaF\n",
    "        bins = int((right - left) / dx)\n",
    "        \n",
    "        # calculate source for current cell\n",
    "        for j in range(bins):\n",
    "            j += index\n",
    "            source[j] = nuSigmaF[0]*flux[j,0] + nuSigmaF[1]*flux[j,1]\n",
    "            \n",
    "        index = j+1\n",
    "        \n",
    "    return source"
   ]
  },
  {
   "cell_type": "code",
   "execution_count": 1336,
   "id": "3c011d39",
   "metadata": {},
   "outputs": [],
   "source": [
    "def zero_tally(tally):\n",
    "    tally.flux = np.zeros_like(tally.flux)\n",
    "    tally.current = np.zeros_like(tally.current)\n",
    "    tally.flux_sdev = np.zeros_like(tally.flux_sdev)\n",
    "    tally.current_sdev = np.zeros_like(tally.current_sdev)"
   ]
  },
  {
   "cell_type": "code",
   "execution_count": 1337,
   "id": "ba5301a0",
   "metadata": {},
   "outputs": [],
   "source": [
    "def calculate_k(fission_source, k):\n",
    "    dx = mesh1.dx\n",
    "    k_new = k * np.sum(dx*fission_source)\n",
    "    return k_new"
   ]
  },
  {
   "cell_type": "code",
   "execution_count": 1338,
   "id": "9cbd491b",
   "metadata": {},
   "outputs": [],
   "source": [
    "def check_collision(p, material):\n",
    "    eta = np.random.random()\n",
    "    SigmaT = material.SigmaT[p.g]\n",
    "    SigmaS = np.sum(material.SigmaS[p.g,:])\n",
    "    \n",
    "    if eta < SigmaS / SigmaT:\n",
    "        return \"scatter\"\n",
    "    else:\n",
    "        return \"absorb\""
   ]
  },
  {
   "cell_type": "code",
   "execution_count": 1339,
   "id": "fe4eb724",
   "metadata": {},
   "outputs": [],
   "source": [
    "def move_particle(p, x):\n",
    "    if p.mu > 0:\n",
    "        p.x += x * abs(p.mu)\n",
    "    else:\n",
    "        p.x -= x * abs(p.mu)"
   ]
  },
  {
   "cell_type": "code",
   "execution_count": 1340,
   "id": "b3335970",
   "metadata": {},
   "outputs": [],
   "source": [
    "def get_surface(p, bin_id):\n",
    "    if p.mu > 0:\n",
    "        return bin_id+1\n",
    "    else:\n",
    "        return bin_id"
   ]
  },
  {
   "cell_type": "code",
   "execution_count": 1341,
   "id": "a48a1c41",
   "metadata": {},
   "outputs": [],
   "source": [
    "def get_material(p, cells):\n",
    "    for i in range(len(cells)):\n",
    "        right = cells[i].right\n",
    "        left = cells[i].left\n",
    "        if p.x >= left and p.x < right:\n",
    "            return cells[i].material"
   ]
  },
  {
   "cell_type": "code",
   "execution_count": 1342,
   "id": "f31c453e",
   "metadata": {},
   "outputs": [],
   "source": [
    "def isotropic_scatter(p):\n",
    "    p.mu = 2 * np.random.random() - 1"
   ]
  },
  {
   "cell_type": "code",
   "execution_count": 1343,
   "id": "e942dfd9",
   "metadata": {},
   "outputs": [],
   "source": [
    "def energy_scatter(material, p):\n",
    "    SigmaS = material.SigmaS[p.g,:].copy()\n",
    "\n",
    "    # normalize SigmaS\n",
    "    SigmaS *= 1/np.sum(SigmaS)\n",
    "\n",
    "    # sample energy group\n",
    "    eta = np.random.random()\n",
    "    if eta < SigmaS[0]:\n",
    "        p.g = 0\n",
    "    else:\n",
    "        p.g = 1        "
   ]
  },
  {
   "cell_type": "code",
   "execution_count": 1344,
   "id": "a990f4d8",
   "metadata": {},
   "outputs": [],
   "source": [
    "def sample_location(p, source):\n",
    "    sample = source.copy()\n",
    "    eta = np.random.random()\n",
    "    \n",
    "    for i in range(len(sample)):\n",
    "        if eta > sample[i]:\n",
    "            sample[i+1] += sample[i]\n",
    "            continue\n",
    "        else:\n",
    "            bin_id = i\n",
    "            break\n",
    "            \n",
    "    eta = np.random.random()\n",
    "    p.x = bin_id*mesh1.dx + eta*mesh1.dx"
   ]
  },
  {
   "cell_type": "code",
   "execution_count": 1345,
   "id": "214f5ad1",
   "metadata": {},
   "outputs": [],
   "source": [
    "def closeout_tally(tally, N_histories):\n",
    "    tally.flux *= 1/N_histories\n",
    "    tally.current *= 1/N_histories\n",
    "    flux = tally.flux.copy()\n",
    "    current = tally.current.copy()\n",
    "    tally.flux_sdev = np.sqrt(\n",
    "        (tally.flux_sdev / N_histories - np.square(flux)) / (N_histories - 1)\n",
    "    )\n",
    "    tally.current_sdev = np.sqrt(\n",
    "        (tally.current_sdev / N_histories - np.square(current)) / (N_histories - 1)\n",
    "    )"
   ]
  },
  {
   "cell_type": "markdown",
   "id": "6c016a2e",
   "metadata": {},
   "source": [
    "##### Main loops"
   ]
  },
  {
   "cell_type": "code",
   "execution_count": 1346,
   "id": "3079f29f",
   "metadata": {
    "scrolled": true
   },
   "outputs": [],
   "source": [
    "def loop_source(N_histories, source, k_old):\n",
    "    for i in range(N_histories):\n",
    "        # create particle with x, mu, g, w\n",
    "        p = particle(True, 0, 0, 0, 0)\n",
    "        \n",
    "        sample_location(p, source)\n",
    "        isotropic_scatter(p)\n",
    "        p.g = 0\n",
    "        p.w = 1/k_old\n",
    "        \n",
    "        while p.alive:\n",
    "\n",
    "            # get particle bin\n",
    "            bin_id = np.searchsorted(mesh1.mesh_x, p.x) - 1\n",
    "            \n",
    "            # get material\n",
    "            material = get_material(p, cells)\n",
    "            \n",
    "            # sample distance to collision\n",
    "            distance_to_collision = -np.log(np.random.random())/material.SigmaT[p.g]\n",
    "            \n",
    "            # calculate distance to surface\n",
    "            if p.mu < 0:\n",
    "                distance_to_surface = abs((p.x - (bin_id * mesh1.dx)) / p.mu)\n",
    "            elif p.mu > 0:\n",
    "                distance_to_surface = (((bin_id+1) * mesh1.dx) - p.x) / p.mu\n",
    "            # surface crossing\n",
    "            if distance_to_collision >= distance_to_surface:\n",
    "                # get surface\n",
    "                surface = get_surface(p, bin_id)\n",
    "                \n",
    "                # score flux in bin\n",
    "                score_flux = distance_to_surface * p.w\n",
    "                tally1.flux[bin_id, p.g] += score_flux\n",
    "                tally1.flux_sdev[bin_id, p.g] += np.square(score_flux)\n",
    "                \n",
    "                # score current on surface\n",
    "                score_current = p.w\n",
    "                tally1.current[surface, p.g] += score_current\n",
    "                tally1.current_sdev[surface, p.g] += np.square(score_current)\n",
    "                \n",
    "                # move particle to surface \n",
    "                move_particle(p, distance_to_surface)\n",
    "                \n",
    "                # check bcs\n",
    "                if surface == 0 or surface == mesh1.Nx-1:\n",
    "                    if mesh1.bc == \"vacuum\":\n",
    "                        p.alive = False\n",
    "                    elif mesh1.bc == \"reflective\":\n",
    "                        p.mu *= -1\n",
    "                        \n",
    "                # push into next bin\n",
    "                pushn_P(p)\n",
    "                    \n",
    "            else:\n",
    "                # score tally\n",
    "                score_flux = distance_to_collision * p.w\n",
    "                tally1.flux[bin_id, p.g] += score_flux\n",
    "                tally1.flux_sdev[bin_id, p.g] += np.square(score_flux)\n",
    "                \n",
    "                # move particle to collision\n",
    "                move_particle(p, distance_to_collision)\n",
    "\n",
    "                # get collision\n",
    "                collision = check_collision(p, material)\n",
    "                if collision == \"absorb\": # kill particle\n",
    "                    p.alive = False\n",
    "                elif collision == \"scatter\": # tally scatter, sample new direction, change energy\n",
    "                    isotropic_scatter(p)\n",
    "                    energy_scatter(material, p)\n",
    "                else:\n",
    "                    print(\"No collision\")\n",
    "            \n",
    "\n",
    "    # close tally\n",
    "    closeout_tally(tally1, N_histories)"
   ]
  },
  {
   "cell_type": "code",
   "execution_count": 1347,
   "id": "3d3c3695",
   "metadata": {},
   "outputs": [],
   "source": [
    "def loop_main(N_cycles, inactive_cycles, N_histories):\n",
    "    cycle = 0\n",
    "    simulation_end = False\n",
    "\n",
    "    # build initial source\n",
    "    fission_source = np.ones(mesh1.Nx-1)\n",
    "    k_total = 0\n",
    "    k_old = 1\n",
    "    \n",
    "    while not simulation_end:\n",
    "        print(cycle)\n",
    "        \n",
    "        # zero out tally\n",
    "        zero_tally(tally1)\n",
    "        \n",
    "        # normalize fission source\n",
    "        fission_source *= 1/np.sum(fission_source)\n",
    "        \n",
    "        # run particles\n",
    "        loop_source(N_histories, fission_source, k_old)\n",
    "        \n",
    "        # check iteration\n",
    "        cycle += 1\n",
    "        if cycle == N_cycles:\n",
    "            simulation_end = True\n",
    "        elif cycle < inactive_cycles:\n",
    "            fission_source = calculate_fission_source()\n",
    "        else:\n",
    "            fission_source = calculate_fission_source()\n",
    "            k_new = calculate_k(fission_source, k_old)\n",
    "            k_old = k_new\n",
    "            k_total += k_new\n",
    "\n",
    "    keff = k_total/(N_cycles-inactive_cycles)\n",
    "    print(keff)"
   ]
  },
  {
   "cell_type": "markdown",
   "id": "93914846",
   "metadata": {},
   "source": [
    "##### Test Problem"
   ]
  },
  {
   "cell_type": "markdown",
   "id": "0e1ae706",
   "metadata": {},
   "source": [
    "#### Test A"
   ]
  },
  {
   "cell_type": "code",
   "execution_count": 1348,
   "id": "04522656",
   "metadata": {},
   "outputs": [],
   "source": [
    "# materials\n",
    "mox = material(np.array([0,1.05]), \n",
    "              np.array([[0.25,0],[0,0]]), \n",
    "              np.array([0.25,0.75]))\n",
    "\n",
    "u = material(np.array([0,0.40]), \n",
    "              np.array([[0.25,0],[0,0]]), \n",
    "              np.array([0.25,0.25]))\n",
    "\n",
    "water = material(np.array([0,0]), \n",
    "              np.array([[0.20,0.05],[0,1.25]]), \n",
    "              np.array([0.25,1.25]))\n",
    "# cells\n",
    "cells = []\n",
    "\n",
    "for i in range(8):\n",
    "    i *= 1.25\n",
    "    cells.extend([cell(i+0, i+.3125, water), cell(i+.3125, i+.9375, mox), cell(i+.9375, i+1.25, water)])\n",
    "\n",
    "for i in range(8, 16):\n",
    "    i *= 1.25\n",
    "    cells.extend([cell(i+0, i+.3125, water), cell(i+.3125, i+.9375, u), cell(i+.9375, i+1.25, water)])\n",
    "\n",
    "# mesh\n",
    "mesh1 = mesh(128 + 1, 20, \"reflective\")\n",
    "\n",
    "# tally\n",
    "tally1 = tally(np.zeros((mesh1.Nx-1, 2)), \n",
    "               np.zeros((mesh1.Nx, 2)))"
   ]
  },
  {
   "cell_type": "code",
   "execution_count": 1349,
   "id": "4bd250ad",
   "metadata": {
    "scrolled": true
   },
   "outputs": [
    {
     "name": "stdout",
     "output_type": "stream",
     "text": [
      "0\n"
     ]
    },
    {
     "name": "stderr",
     "output_type": "stream",
     "text": [
      "<ipython-input-1345-151ff06c66d5>:9: RuntimeWarning: invalid value encountered in sqrt\n",
      "  tally.current_sdev = np.sqrt(\n"
     ]
    },
    {
     "name": "stdout",
     "output_type": "stream",
     "text": [
      "1\n",
      "2\n",
      "3\n",
      "4\n",
      "5\n",
      "6\n",
      "7\n",
      "8\n",
      "9\n",
      "10\n",
      "11\n",
      "12\n",
      "13\n",
      "14\n",
      "15\n",
      "16\n",
      "17\n",
      "18\n",
      "19\n",
      "20\n",
      "21\n",
      "22\n",
      "23\n",
      "24\n",
      "25\n",
      "26\n",
      "27\n",
      "28\n",
      "29\n",
      "30\n",
      "31\n",
      "32\n",
      "33\n",
      "34\n",
      "35\n",
      "36\n",
      "37\n",
      "38\n",
      "39\n",
      "40\n",
      "41\n",
      "42\n",
      "43\n",
      "44\n",
      "45\n",
      "46\n",
      "47\n",
      "48\n",
      "49\n",
      "50\n",
      "51\n",
      "52\n",
      "53\n",
      "54\n",
      "55\n",
      "56\n",
      "57\n",
      "58\n",
      "59\n",
      "60\n",
      "61\n",
      "62\n",
      "63\n",
      "64\n",
      "65\n",
      "66\n",
      "67\n",
      "68\n",
      "69\n",
      "70\n",
      "71\n",
      "72\n",
      "73\n",
      "74\n",
      "75\n",
      "76\n",
      "77\n",
      "78\n",
      "79\n",
      "80\n",
      "81\n",
      "82\n",
      "83\n",
      "84\n",
      "85\n",
      "86\n",
      "87\n",
      "88\n",
      "89\n",
      "90\n",
      "91\n",
      "92\n",
      "93\n",
      "94\n",
      "95\n",
      "96\n",
      "97\n",
      "98\n",
      "99\n",
      "0.23269601362488623\n"
     ]
    }
   ],
   "source": [
    "N_cycles = 100\n",
    "inactive_cycles = 25\n",
    "N_histories = 1000\n",
    "\n",
    "loop_main(N_cycles, inactive_cycles, N_histories)"
   ]
  },
  {
   "cell_type": "markdown",
   "id": "9a06589a",
   "metadata": {},
   "source": [
    "c. i."
   ]
  },
  {
   "cell_type": "code",
   "execution_count": 1352,
   "id": "f1ad6f29",
   "metadata": {},
   "outputs": [],
   "source": [
    "# get values\n",
    "flux = tally1.flux\n",
    "dx = mesh1.dx\n",
    "hist = np.zeros([48,2])\n",
    "index = 0\n",
    "\n",
    "# loop through all cells\n",
    "for i in range(len(cells)):\n",
    "    # get cell and material data\n",
    "    average0 = 0\n",
    "    average1 = 0\n",
    "    \n",
    "    left = cells[i].left\n",
    "    right = cells[i].right\n",
    "    material = cells[i].material\n",
    "    nuSigmaF = material.nuSigmaF\n",
    "    bins = int((right - left) / dx)\n",
    "\n",
    "    # calculate source for current cell\n",
    "    for j in range(bins):\n",
    "        j += index\n",
    "        average0 += flux[j,0]\n",
    "        average1 += flux[j,1]\n",
    "        \n",
    "    hist[i,0] = average0 / bins\n",
    "    hist[i,1] = average1 / bins\n",
    "\n",
    "    index = j+1"
   ]
  },
  {
   "cell_type": "code",
   "execution_count": 1353,
   "id": "4f909534",
   "metadata": {},
   "outputs": [],
   "source": [
    "histo = hist.copy()\n",
    "avg = np.zeros([16,2])\n",
    "for i in range(16):\n",
    "    j = i*3\n",
    "    avg[i,:] += (histo[j,:] + histo[j+1,:] + histo[j+2,:]) / 3"
   ]
  },
  {
   "cell_type": "code",
   "execution_count": 1288,
   "id": "86ed3889",
   "metadata": {},
   "outputs": [
    {
     "data": {
      "image/png": "[encoded data removed]",
      "text/plain": [
       "<Figure size 432x288 with 1 Axes>"
      ]
     },
     "metadata": {
      "needs_background": "light"
     },
     "output_type": "display_data"
    }
   ],
   "source": [
    "mid_0 = tally1.flux[:,0]\n",
    "sd_0 = tally1.flux_sdev[:,0]\n",
    "\n",
    "plt.step(mesh1.mesh_flux, mid_0, label=\"Mean\")\n",
    "plt.fill_between(mesh1.mesh_flux, mid_0-sd_0, mid_0+sd_0,step=\"pre\", alpha=.2, color=\"b\", label=\"Error\")\n",
    "plt.step(np.linspace(0,20,16), avg[:,0], color=\"r\", where='mid', label=\"Pin-cell Average\")\n",
    "plt.legend()\n",
    "plt.title(\"Fast group flux\")\n",
    "plt.ylabel(\"Flux\")\n",
    "plt.xlabel(\"x\")\n",
    "plt.show()"
   ]
  },
  {
   "cell_type": "code",
   "execution_count": 1289,
   "id": "2e265053",
   "metadata": {},
   "outputs": [
    {
     "data": {
      "image/png": "[encoded data removed]",
      "text/plain": [
       "<Figure size 432x288 with 1 Axes>"
      ]
     },
     "metadata": {
      "needs_background": "light"
     },
     "output_type": "display_data"
    }
   ],
   "source": [
    "mid_0 = tally1.flux[:,1]\n",
    "sd_0 = tally1.flux_sdev[:,1]\n",
    "\n",
    "plt.step(mesh1.mesh_flux, mid_0, label=\"Mean\")\n",
    "plt.fill_between(mesh1.mesh_flux, mid_0-sd_0, mid_0+sd_0,step=\"pre\", alpha=.2, color=\"b\", label=\"Error\")\n",
    "plt.step(np.linspace(0,20,16), avg[:,1], color=\"r\", where='mid', label=\"Pin-cell Average\")\n",
    "plt.legend()\n",
    "plt.title(\"Thermal group flux\")\n",
    "plt.ylabel(\"Flux\")\n",
    "plt.xlabel(\"x\")\n",
    "plt.show()"
   ]
  },
  {
   "cell_type": "markdown",
   "id": "337d26ca",
   "metadata": {},
   "source": [
    "c. ii."
   ]
  },
  {
   "cell_type": "code",
   "execution_count": 1194,
   "id": "2b81318d",
   "metadata": {
    "scrolled": false
   },
   "outputs": [
    {
     "data": {
      "image/png": "[encoded data removed]",
      "text/plain": [
       "<Figure size 432x288 with 1 Axes>"
      ]
     },
     "metadata": {
      "needs_background": "light"
     },
     "output_type": "display_data"
    }
   ],
   "source": [
    "mid_0 = tally1.current[:,0]\n",
    "sd_0 = tally1.current_sdev[:,0]\n",
    "\n",
    "plt.step(mesh1.mesh_x, mid_0, label=\"Mean\")\n",
    "plt.fill_between(mesh1.mesh_x, mid_0-sd_0, mid_0+sd_0,step=\"pre\", alpha=.2, color=\"r\", label=\"Error\")\n",
    "plt.legend()\n",
    "plt.title(\"Fast group current\")\n",
    "plt.ylabel(\"Current\")\n",
    "plt.xlabel(\"x\")\n",
    "plt.show()"
   ]
  },
  {
   "cell_type": "code",
   "execution_count": 1193,
   "id": "fe36c7bf",
   "metadata": {
    "scrolled": true
   },
   "outputs": [
    {
     "data": {
      "image/png": "[encoded data removed]",
      "text/plain": [
       "<Figure size 432x288 with 1 Axes>"
      ]
     },
     "metadata": {
      "needs_background": "light"
     },
     "output_type": "display_data"
    }
   ],
   "source": [
    "mid_1 = tally1.current[:,1]\n",
    "sd_1 = tally1.current_sdev[:,1]\n",
    "\n",
    "plt.step(mesh1.mesh_x, mid_1, label=\"Mean\")\n",
    "plt.fill_between(mesh1.mesh_x, mid_1-sd_1, mid_1+sd_1,step=\"pre\", alpha=.2, color=\"r\", label=\"Error\")\n",
    "plt.legend()\n",
    "plt.title(\"Thermal group current\")\n",
    "plt.ylabel(\"Current\")\n",
    "plt.xlabel(\"x\")\n",
    "plt.show()"
   ]
  },
  {
   "cell_type": "markdown",
   "id": "77bd3d37",
   "metadata": {},
   "source": [
    "#### Test B"
   ]
  },
  {
   "cell_type": "code",
   "execution_count": 1310,
   "id": "b1d3cd94",
   "metadata": {},
   "outputs": [],
   "source": [
    "# materials\n",
    "\n",
    "mox = material(np.array([0,0.75]), \n",
    "              np.array([[0.21,0.04],[0,1.0]]), \n",
    "              np.array([0.25,1.25]))\n",
    "\n",
    "u = material(np.array([0,0.25]), \n",
    "              np.array([[0.21,0.04],[0,0.9]]), \n",
    "              np.array([0.25,1.1]))\n",
    "\n",
    "water = material(np.array([0,0]), \n",
    "              np.array([[0.17,0.06],[0,1.1]]), \n",
    "              np.array([0.25,1.1]))\n",
    "# cells\n",
    "cells = []\n",
    "\n",
    "for i in range(8):\n",
    "    i *= 1.25\n",
    "    cells.extend([cell(i+0, i+.3125, water), cell(i+.3125, i+.9375, mox), cell(i+.9375, i+1.25, water)])\n",
    "\n",
    "for i in range(8, 16):\n",
    "    i *= 1.25\n",
    "    cells.extend([cell(i+0, i+.3125, water), cell(i+.3125, i+.9375, u), cell(i+.9375, i+1.25, water)])\n",
    "\n",
    "# mesh\n",
    "mesh1 = mesh(128 + 1, 20, \"reflective\")\n",
    "\n",
    "# tally\n",
    "tally1 = tally(np.zeros((mesh1.Nx-1, 2)), \n",
    "               np.zeros((mesh1.Nx, 2)))"
   ]
  },
  {
   "cell_type": "code",
   "execution_count": 1311,
   "id": "f7d455fd",
   "metadata": {
    "scrolled": true
   },
   "outputs": [
    {
     "name": "stdout",
     "output_type": "stream",
     "text": [
      "0\n",
      "1\n",
      "2\n",
      "3\n",
      "4\n",
      "5\n",
      "6\n",
      "7\n",
      "8\n",
      "9\n",
      "10\n",
      "11\n",
      "12\n",
      "13\n",
      "14\n",
      "15\n",
      "16\n",
      "17\n",
      "18\n",
      "19\n",
      "20\n",
      "21\n",
      "22\n",
      "23\n",
      "24\n",
      "25\n",
      "26\n",
      "27\n",
      "28\n",
      "29\n",
      "30\n",
      "31\n",
      "32\n",
      "33\n",
      "34\n",
      "35\n",
      "36\n",
      "37\n",
      "38\n",
      "39\n",
      "40\n",
      "41\n",
      "42\n",
      "43\n",
      "44\n",
      "45\n",
      "46\n",
      "47\n",
      "48\n",
      "49\n",
      "50\n",
      "51\n",
      "52\n",
      "53\n",
      "54\n",
      "55\n",
      "56\n",
      "57\n",
      "58\n",
      "59\n",
      "60\n",
      "61\n",
      "62\n",
      "63\n",
      "64\n",
      "65\n",
      "66\n",
      "67\n",
      "68\n",
      "69\n",
      "70\n",
      "71\n",
      "72\n",
      "73\n",
      "74\n",
      "75\n",
      "76\n",
      "77\n",
      "78\n",
      "79\n",
      "80\n",
      "81\n",
      "82\n",
      "83\n",
      "84\n",
      "85\n",
      "86\n",
      "87\n",
      "88\n",
      "89\n",
      "90\n",
      "91\n",
      "92\n",
      "93\n",
      "94\n",
      "95\n",
      "96\n",
      "97\n",
      "98\n",
      "99\n",
      "0.32742212927977055\n"
     ]
    }
   ],
   "source": [
    "N_cycles = 100\n",
    "inactive_cycles = 25\n",
    "N_histories = 1000\n",
    "\n",
    "loop_main(N_cycles, inactive_cycles, N_histories)"
   ]
  },
  {
   "cell_type": "markdown",
   "id": "54638869",
   "metadata": {},
   "source": [
    "c. i."
   ]
  },
  {
   "cell_type": "code",
   "execution_count": 1312,
   "id": "2de8475f",
   "metadata": {},
   "outputs": [],
   "source": [
    "# get values\n",
    "flux = tally1.flux\n",
    "dx = mesh1.dx\n",
    "hist = np.zeros([48,2])\n",
    "index = 0\n",
    "\n",
    "# loop through all cells\n",
    "for i in range(len(cells)):\n",
    "    # get cell and material data\n",
    "    average0 = 0\n",
    "    average1 = 0\n",
    "    \n",
    "    left = cells[i].left\n",
    "    right = cells[i].right\n",
    "    material = cells[i].material\n",
    "    nuSigmaF = material.nuSigmaF\n",
    "    bins = int((right - left) / dx)\n",
    "\n",
    "    # calculate source for current cell\n",
    "    for j in range(bins):\n",
    "        j += index\n",
    "        average0 += flux[j,0]\n",
    "        average1 += flux[j,1]\n",
    "        \n",
    "    hist[i,0] = average0 / bins\n",
    "    hist[i,1] = average1 / bins\n",
    "\n",
    "    index = j+1"
   ]
  },
  {
   "cell_type": "code",
   "execution_count": 1313,
   "id": "e3aa3305",
   "metadata": {},
   "outputs": [],
   "source": [
    "histo = hist.copy()\n",
    "avg = np.zeros([16,2])\n",
    "for i in range(16):\n",
    "    j = i*3\n",
    "    avg[i,:] += (histo[j,:] + histo[j+1,:] + histo[j+2,:]) / 3"
   ]
  },
  {
   "cell_type": "code",
   "execution_count": 1314,
   "id": "b0567ab6",
   "metadata": {},
   "outputs": [
    {
     "data": {
      "image/png": "[encoded data removed]",
      "text/plain": [
       "<Figure size 432x288 with 1 Axes>"
      ]
     },
     "metadata": {
      "needs_background": "light"
     },
     "output_type": "display_data"
    }
   ],
   "source": [
    "mid_0 = tally1.flux[:,0]\n",
    "sd_0 = tally1.flux_sdev[:,0]\n",
    "\n",
    "plt.step(mesh1.mesh_flux, mid_0, where='pre',label=\"Mean\")\n",
    "plt.fill_between(mesh1.mesh_flux, mid_0-sd_0, mid_0+sd_0, step=\"pre\", alpha=.2, color=\"b\", label=\"Error\")\n",
    "plt.step(np.linspace(0,20,16), avg[:,0], color=\"r\", where='mid',label=\"Pin-cell Average\")\n",
    "plt.legend()\n",
    "plt.title(\"Fast group flux\")\n",
    "plt.ylabel(\"Flux\")\n",
    "plt.xlabel(\"x\")\n",
    "plt.show()"
   ]
  },
  {
   "cell_type": "code",
   "execution_count": 1315,
   "id": "09b65a91",
   "metadata": {},
   "outputs": [
    {
     "data": {
      "image/png": "[encoded data removed]",
      "text/plain": [
       "<Figure size 432x288 with 1 Axes>"
      ]
     },
     "metadata": {
      "needs_background": "light"
     },
     "output_type": "display_data"
    }
   ],
   "source": [
    "mid_0 = tally1.flux[:,1]\n",
    "sd_0 = tally1.flux_sdev[:,1]\n",
    "\n",
    "plt.step(mesh1.mesh_flux, mid_0, label=\"Mean\")\n",
    "plt.fill_between(mesh1.mesh_flux, mid_0-sd_0, mid_0+sd_0,step=\"pre\", alpha=.2, color=\"b\", label=\"Error\")\n",
    "plt.step(np.linspace(0,20,16), avg[:,1], color=\"r\", where='mid', label=\"Pin-cell Average\")\n",
    "plt.legend()\n",
    "plt.title(\"Thermal group flux\")\n",
    "plt.ylabel(\"Flux\")\n",
    "plt.xlabel(\"x\")\n",
    "plt.show()"
   ]
  },
  {
   "cell_type": "markdown",
   "id": "64d71fca",
   "metadata": {},
   "source": [
    "c. ii."
   ]
  },
  {
   "cell_type": "code",
   "execution_count": 1246,
   "id": "77caafbe",
   "metadata": {
    "scrolled": false
   },
   "outputs": [
    {
     "data": {
      "image/png": "[encoded data removed]",
      "text/plain": [
       "<Figure size 432x288 with 1 Axes>"
      ]
     },
     "metadata": {
      "needs_background": "light"
     },
     "output_type": "display_data"
    }
   ],
   "source": [
    "mid_0 = tally1.current[:,0]\n",
    "sd_0 = tally1.current_sdev[:,0]\n",
    "\n",
    "plt.step(mesh1.mesh_x, mid_0, label=\"Mean\")\n",
    "plt.fill_between(mesh1.mesh_x, mid_0-sd_0, mid_0+sd_0,step=\"pre\", alpha=.2, color=\"r\", label=\"Error\")\n",
    "plt.legend()\n",
    "plt.title(\"Fast group current\")\n",
    "plt.ylabel(\"Current\")\n",
    "plt.xlabel(\"x\")\n",
    "plt.show()"
   ]
  },
  {
   "cell_type": "code",
   "execution_count": 1244,
   "id": "6221a6ab",
   "metadata": {
    "scrolled": false
   },
   "outputs": [
    {
     "data": {
      "image/png": "[encoded data removed]",
      "text/plain": [
       "<Figure size 432x288 with 1 Axes>"
      ]
     },
     "metadata": {
      "needs_background": "light"
     },
     "output_type": "display_data"
    }
   ],
   "source": [
    "mid_1 = tally1.current[:,1]\n",
    "sd_1 = tally1.current_sdev[:,1]\n",
    "\n",
    "plt.step(mesh1.mesh_x, mid_1, label=\"Mean\")\n",
    "plt.fill_between(mesh1.mesh_x, mid_1-sd_1, mid_1+sd_1,step=\"pre\", alpha=.2, color=\"r\", label=\"Error\")\n",
    "plt.legend()\n",
    "plt.title(\"Thermal group current\")\n",
    "plt.ylabel(\"Current\")\n",
    "plt.xlabel(\"x\")\n",
    "plt.show()"
   ]
  }
 ],
 "metadata": {
  "kernelspec": {
   "display_name": "Python 3",
   "language": "python",
   "name": "python3"
  },
  "language_info": {
   "codemirror_mode": {
    "name": "ipython",
    "version": 3
   },
   "file_extension": ".py",
   "mimetype": "text/x-python",
   "name": "python",
   "nbconvert_exporter": "python",
   "pygments_lexer": "ipython3",
   "version": "3.8.8"
  }
 },
 "nbformat": 4,
 "nbformat_minor": 5
}
